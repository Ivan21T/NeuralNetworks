{
  "nbformat": 4,
  "nbformat_minor": 0,
  "metadata": {
    "colab": {
      "provenance": [],
      "authorship_tag": "ABX9TyOTYN4AtVfVlZv9SR9LHuqJ",
      "include_colab_link": true
    },
    "kernelspec": {
      "name": "python3",
      "display_name": "Python 3"
    },
    "language_info": {
      "name": "python"
    }
  },
  "cells": [
    {
      "cell_type": "markdown",
      "metadata": {
        "id": "view-in-github",
        "colab_type": "text"
      },
      "source": [
        "<a href=\"https://colab.research.google.com/github/Ivan21T/NeuralNetworks/blob/main/LinearRegression.ipynb\" target=\"_parent\"><img src=\"https://colab.research.google.com/assets/colab-badge.svg\" alt=\"Open In Colab\"/></a>"
      ]
    },
    {
      "cell_type": "code",
      "execution_count": null,
      "metadata": {
        "colab": {
          "base_uri": "https://localhost:8080/"
        },
        "id": "XagfxiGABJfx",
        "outputId": "7477ddbd-1743-4b4a-dfc7-ab4c98f36ee9"
      },
      "outputs": [
        {
          "output_type": "execute_result",
          "data": {
            "text/plain": [
              "tensor([[0.8989, 0.5728, 0.1474, 0.2406],\n",
              "        [0.3680, 0.2903, 0.7073, 0.1227],\n",
              "        [0.3848, 0.5459, 0.9765, 0.2375]])"
            ]
          },
          "metadata": {},
          "execution_count": 1
        }
      ],
      "source": [
        "import torch\n",
        "import numpy as np\n",
        "import matplotlib.pyplot as plt\n",
        "random_tensor=torch.rand(3,4)\n",
        "random_tensor"
      ]
    },
    {
      "cell_type": "code",
      "source": [
        "random_tensor.ndim\n",
        "print(torch.__version__)"
      ],
      "metadata": {
        "colab": {
          "base_uri": "https://localhost:8080/"
        },
        "id": "SHczohXoDEoq",
        "outputId": "6819798a-778d-4bd3-a067-b64c1cf59007"
      },
      "execution_count": null,
      "outputs": [
        {
          "output_type": "stream",
          "name": "stdout",
          "text": [
            "2.4.0+cu121\n"
          ]
        }
      ]
    },
    {
      "cell_type": "code",
      "source": [
        "random_image_size_tensor=torch.rand(size=(224,224,3)) #height,width,color channel\n",
        "random_image_size_tensor.shape, random_image_size_tensor.ndim"
      ],
      "metadata": {
        "colab": {
          "base_uri": "https://localhost:8080/"
        },
        "id": "r5OhKMBRDh-s",
        "outputId": "3fefab24-0fa1-41d7-8799-2516529bb8f7"
      },
      "execution_count": null,
      "outputs": [
        {
          "output_type": "execute_result",
          "data": {
            "text/plain": [
              "(torch.Size([224, 224, 3]), 3)"
            ]
          },
          "metadata": {},
          "execution_count": 3
        }
      ]
    },
    {
      "cell_type": "code",
      "source": [
        "randomVector=torch.rand(3,3)\n",
        "randomVector"
      ],
      "metadata": {
        "colab": {
          "base_uri": "https://localhost:8080/"
        },
        "id": "LVcqOuHWGD7X",
        "outputId": "4e5dec43-5b2d-455e-d325-77ba1fc6d8d8"
      },
      "execution_count": null,
      "outputs": [
        {
          "output_type": "execute_result",
          "data": {
            "text/plain": [
              "tensor([[0.3847, 0.9621, 0.7893],\n",
              "        [0.7214, 0.0852, 0.9103],\n",
              "        [0.7841, 0.5686, 0.4903]])"
            ]
          },
          "metadata": {},
          "execution_count": 4
        }
      ]
    },
    {
      "cell_type": "code",
      "source": [
        "#Create zero tensor\n",
        "zeros=torch.ones(size=(3,4))\n",
        "zeros\n",
        "zeros*random_tensor"
      ],
      "metadata": {
        "colab": {
          "base_uri": "https://localhost:8080/"
        },
        "id": "jAlrkhJKGo4U",
        "outputId": "33210e4d-7275-497b-8cf3-4d2bf7920f51"
      },
      "execution_count": null,
      "outputs": [
        {
          "output_type": "execute_result",
          "data": {
            "text/plain": [
              "tensor([[0.8989, 0.5728, 0.1474, 0.2406],\n",
              "        [0.3680, 0.2903, 0.7073, 0.1227],\n",
              "        [0.3848, 0.5459, 0.9765, 0.2375]])"
            ]
          },
          "metadata": {},
          "execution_count": 5
        }
      ]
    },
    {
      "cell_type": "code",
      "source": [
        "ones=torch.ones(size=(3,4))\n",
        "ones.dtype"
      ],
      "metadata": {
        "colab": {
          "base_uri": "https://localhost:8080/"
        },
        "id": "tau6x7z7HRUv",
        "outputId": "7dc46b8d-e1ea-42f6-dade-d2f6a01b8fab"
      },
      "execution_count": null,
      "outputs": [
        {
          "output_type": "execute_result",
          "data": {
            "text/plain": [
              "torch.float32"
            ]
          },
          "metadata": {},
          "execution_count": 6
        }
      ]
    },
    {
      "cell_type": "code",
      "source": [
        "#Creating a range of tensors and tensors-like\n",
        "one_to_ten=torch.arange(start=1,end=11,step=1)\n",
        "one_to_ten"
      ],
      "metadata": {
        "colab": {
          "base_uri": "https://localhost:8080/"
        },
        "id": "Rd_zFFnEHsSn",
        "outputId": "1695dce2-c394-4001-f0f5-bb6d7f759d8c"
      },
      "execution_count": null,
      "outputs": [
        {
          "output_type": "execute_result",
          "data": {
            "text/plain": [
              "tensor([ 1,  2,  3,  4,  5,  6,  7,  8,  9, 10])"
            ]
          },
          "metadata": {},
          "execution_count": 7
        }
      ]
    },
    {
      "cell_type": "code",
      "source": [
        "#Craeting tensors like\n",
        "ten_zeros=torch.zeros_like(input=one_to_ten)\n",
        "ten_zeros"
      ],
      "metadata": {
        "colab": {
          "base_uri": "https://localhost:8080/"
        },
        "id": "yE4t7mQQITn9",
        "outputId": "e185b8dd-af87-442e-ef91-ec93524b62fb"
      },
      "execution_count": null,
      "outputs": [
        {
          "output_type": "execute_result",
          "data": {
            "text/plain": [
              "tensor([0, 0, 0, 0, 0, 0, 0, 0, 0, 0])"
            ]
          },
          "metadata": {},
          "execution_count": 8
        }
      ]
    },
    {
      "cell_type": "code",
      "source": [
        "import torch\n",
        "from torch import  nn\n",
        "import matplotlib.pyplot as plt\n",
        "#create known parameters\n",
        "weight=0.7\n",
        "bias=0.3\n",
        "\n",
        "#Create\n",
        "start=0\n",
        "end=1\n",
        "step=0.02\n",
        "X=torch.arange(start,end,step).unsqueeze(dim=1)\n",
        "y=weight*X+bias\n",
        "X[:10],y[:10]"
      ],
      "metadata": {
        "colab": {
          "base_uri": "https://localhost:8080/"
        },
        "id": "PUSp-6WHg192",
        "outputId": "df775625-4cb5-44bb-b9c3-2b2a327bdb48"
      },
      "execution_count": null,
      "outputs": [
        {
          "output_type": "execute_result",
          "data": {
            "text/plain": [
              "(tensor([[0.0000],\n",
              "         [0.0200],\n",
              "         [0.0400],\n",
              "         [0.0600],\n",
              "         [0.0800],\n",
              "         [0.1000],\n",
              "         [0.1200],\n",
              "         [0.1400],\n",
              "         [0.1600],\n",
              "         [0.1800]]),\n",
              " tensor([[0.3000],\n",
              "         [0.3140],\n",
              "         [0.3280],\n",
              "         [0.3420],\n",
              "         [0.3560],\n",
              "         [0.3700],\n",
              "         [0.3840],\n",
              "         [0.3980],\n",
              "         [0.4120],\n",
              "         [0.4260]]))"
            ]
          },
          "metadata": {},
          "execution_count": 9
        }
      ]
    },
    {
      "cell_type": "code",
      "source": [
        "train_split=int(0.8*len(X))\n",
        "X_train=X[:train_split]\n",
        "y_train=y[:train_split]\n",
        "X_test=X[train_split:]\n",
        "y_test=y[train_split:]\n",
        "len(X_train),len(y_train),len(X_test),len(y_test)\n"
      ],
      "metadata": {
        "id": "jnHMEIDcmchv",
        "colab": {
          "base_uri": "https://localhost:8080/"
        },
        "outputId": "c36a771e-1f3e-4273-84f3-0d6f63730111"
      },
      "execution_count": null,
      "outputs": [
        {
          "output_type": "execute_result",
          "data": {
            "text/plain": [
              "(40, 40, 10, 10)"
            ]
          },
          "metadata": {},
          "execution_count": 10
        }
      ]
    },
    {
      "cell_type": "code",
      "source": [
        "#Visualise\n",
        "def plot_predictions(train_data=X_train,\n",
        "                     train_label=y_train,\n",
        "                     test_data=X_test,\n",
        "                     test_label=y_test,\n",
        "                     predictions=None):\n",
        "  plt.figure(figsize=(7,10))\n",
        "  #Plot training data in blue\n",
        "  plt.scatter(train_data,train_label,c=\"b\",s=4, label=\"Training data\")\n",
        "  #Plot test data in green\n",
        "  plt.scatter(test_data,test_label,c=\"g\",s=4,label=\"Testing data\")\n",
        "  #Prediction\n",
        "  if predictions is not None:\n",
        "    plt.scatter(test_data,predictions,c=\"r\",s=4,label=\"Predictions\")\n",
        "  plt.legend(prop={\"size\":14})"
      ],
      "metadata": {
        "id": "BvOr_Lf7tEe3"
      },
      "execution_count": null,
      "outputs": []
    },
    {
      "cell_type": "code",
      "source": [
        "plot_predictions()"
      ],
      "metadata": {
        "colab": {
          "base_uri": "https://localhost:8080/",
          "height": 830
        },
        "id": "yK3O_uaItkPa",
        "outputId": "cd197061-d140-4751-fd96-487cebacff78"
      },
      "execution_count": null,
      "outputs": [
        {
          "output_type": "display_data",
          "data": {
            "text/plain": [
              "<Figure size 700x1000 with 1 Axes>"
            ],
            "image/png": "[encoded data removed]"
          },
          "metadata": {}
        }
      ]
    },
    {
      "cell_type": "code",
      "source": [
        "#Two main algorithms -> 1.Gradient decent 2.Backpropagation\n",
        "from torch import nn\n",
        "#2.Build model\n",
        "#Create linear regression model class\n",
        "class LinearRegresionModel(nn.Module):\n",
        "  def __init__(self):\n",
        "    super().__init__()\n",
        "    self.weights=nn.Parameter(torch.randn(1,requires_grad=True,dtype=torch.float))\n",
        "    self.bias=nn.Parameter(torch.randn(1,requires_grad=True,dtype=torch.float))\n",
        "    #Forward method that define the computation in the model\n",
        "  def forward(self,x:torch.Tensor) -> torch.Tensor:# <- \"x\" is the input data\n",
        "    return self.weights*x + self.bias"
      ],
      "metadata": {
        "id": "LborT9lzv2gd"
      },
      "execution_count": null,
      "outputs": []
    },
    {
      "cell_type": "code",
      "source": [
        "#Create a raandom seed\n",
        "torch.manual_seed(42)\n",
        "\n",
        "#Create an instance of the model\n",
        "model_0=LinearRegresionModel()\n",
        "\n",
        "#Check out the parameters\n",
        "list(model_0.parameters())"
      ],
      "metadata": {
        "colab": {
          "base_uri": "https://localhost:8080/"
        },
        "id": "vyS8mQf0omiF",
        "outputId": "9310ff1b-e50c-4ca6-e3de-049955a6ccb4"
      },
      "execution_count": null,
      "outputs": [
        {
          "output_type": "execute_result",
          "data": {
            "text/plain": [
              "[Parameter containing:\n",
              " tensor([0.3367], requires_grad=True),\n",
              " Parameter containing:\n",
              " tensor([0.1288], requires_grad=True)]"
            ]
          },
          "metadata": {},
          "execution_count": 14
        }
      ]
    },
    {
      "cell_type": "code",
      "source": [
        "X_test"
      ],
      "metadata": {
        "colab": {
          "base_uri": "https://localhost:8080/"
        },
        "id": "RVvICMJhvYAg",
        "outputId": "744eeefd-0c2b-4aa6-980c-43e0c2ae4abc"
      },
      "execution_count": null,
      "outputs": [
        {
          "output_type": "execute_result",
          "data": {
            "text/plain": [
              "tensor([[0.8000],\n",
              "        [0.8200],\n",
              "        [0.8400],\n",
              "        [0.8600],\n",
              "        [0.8800],\n",
              "        [0.9000],\n",
              "        [0.9200],\n",
              "        [0.9400],\n",
              "        [0.9600],\n",
              "        [0.9800]])"
            ]
          },
          "metadata": {},
          "execution_count": 15
        }
      ]
    },
    {
      "cell_type": "code",
      "source": [
        "with torch.inference_mode():\n",
        "  y_preds = model_0(X_test)\n",
        "y_preds"
      ],
      "metadata": {
        "colab": {
          "base_uri": "https://localhost:8080/"
        },
        "id": "qQ-xahtjtwpU",
        "outputId": "0b39a3a7-4f3a-42cb-e779-51a87dabde8e"
      },
      "execution_count": null,
      "outputs": [
        {
          "output_type": "execute_result",
          "data": {
            "text/plain": [
              "tensor([[0.3982],\n",
              "        [0.4049],\n",
              "        [0.4116],\n",
              "        [0.4184],\n",
              "        [0.4251],\n",
              "        [0.4318],\n",
              "        [0.4386],\n",
              "        [0.4453],\n",
              "        [0.4520],\n",
              "        [0.4588]])"
            ]
          },
          "metadata": {},
          "execution_count": 16
        }
      ]
    },
    {
      "cell_type": "code",
      "source": [
        "plot_predictions(predictions=y_preds)"
      ],
      "metadata": {
        "colab": {
          "base_uri": "https://localhost:8080/",
          "height": 830
        },
        "id": "QwztfQrszIut",
        "outputId": "98d43e0f-7925-4eb0-d362-4254e4f74512"
      },
      "execution_count": null,
      "outputs": [
        {
          "output_type": "display_data",
          "data": {
            "text/plain": [
              "<Figure size 700x1000 with 1 Axes>"
            ],
            "image/png": "[encoded data removed]"
          },
          "metadata": {}
        }
      ]
    },
    {
      "cell_type": "code",
      "source": [
        "#Setup loss function\n",
        "loss_fn=nn.L1Loss()\n",
        "\n",
        "#Setup an optimiser\n",
        "optimiser=torch.optim.SGD(params=model_0.parameters(),lr=0.01) #lr=learning rate-> add value to prediction data"
      ],
      "metadata": {
        "id": "WvjrLY8Wf_9u"
      },
      "execution_count": null,
      "outputs": []
    },
    {
      "cell_type": "code",
      "source": [
        "#Building training loop and testing loop\n",
        "epochs = 100\n",
        "\n",
        "#Loop through the data\n",
        "for epoch in range(epochs):\n",
        "  #Set the model to training mode\n",
        "  model_0.train()\n",
        "\n",
        "  #1.Forward pass\n",
        "  y_pred=model_0(X_test)\n",
        "\n",
        "  #2.Calculate the loss\n",
        "  loss=loss_fn(y_pred,y_test)\n",
        "  #3 Optimiser\n",
        "  optimiser.zero_grad()\n",
        "  #4 Perform backpropagation lost\n",
        "  loss.backward()\n",
        "  #5 Step the optimiser(perform gradient descend)\n",
        "  optimiser.step()\n",
        "\n",
        "  ##Testing\n",
        "  model_0.eval() #turn off different setting in the model not needed for evaluation\n",
        "  with torch.inference_mode():#turns off gradient tracking and a couple of things\n",
        "   #Do the forward pass\n",
        "   test_pred=model_0(X_test)\n",
        "   #Calculate the loss\n",
        "   test_loss=loss_fn(test_pred,y_test)\n",
        "  if(epoch%10==0):\n",
        "    print(f\"Epoch: {epoch} | Loss:{loss} | Test loss:{test_loss}\")\n",
        "  #print out model state dict\n",
        "  print(model_0.state_dict())"
      ],
      "metadata": {
        "id": "k84SJ3S5lLKa",
        "colab": {
          "base_uri": "https://localhost:8080/"
        },
        "outputId": "caeb6170-c4d2-43a4-cf31-441fa78b96ba"
      },
      "execution_count": null,
      "outputs": [
        {
          "output_type": "stream",
          "name": "stdout",
          "text": [
            "Epoch: 0 | Loss:0.4945361614227295 | Test loss:0.47661519050598145\n",
            "OrderedDict([('weights', tensor([0.3456])), ('bias', tensor([0.1388]))])\n",
            "OrderedDict([('weights', tensor([0.3545])), ('bias', tensor([0.1488]))])\n",
            "OrderedDict([('weights', tensor([0.3634])), ('bias', tensor([0.1588]))])\n",
            "OrderedDict([('weights', tensor([0.3723])), ('bias', tensor([0.1688]))])\n",
            "OrderedDict([('weights', tensor([0.3812])), ('bias', tensor([0.1788]))])\n",
            "OrderedDict([('weights', tensor([0.3901])), ('bias', tensor([0.1888]))])\n",
            "OrderedDict([('weights', tensor([0.3990])), ('bias', tensor([0.1988]))])\n",
            "OrderedDict([('weights', tensor([0.4079])), ('bias', tensor([0.2088]))])\n",
            "OrderedDict([('weights', tensor([0.4168])), ('bias', tensor([0.2188]))])\n",
            "OrderedDict([('weights', tensor([0.4257])), ('bias', tensor([0.2288]))])\n",
            "Epoch: 10 | Loss:0.3153262436389923 | Test loss:0.2974052429199219\n",
            "OrderedDict([('weights', tensor([0.4346])), ('bias', tensor([0.2388]))])\n",
            "OrderedDict([('weights', tensor([0.4435])), ('bias', tensor([0.2488]))])\n",
            "OrderedDict([('weights', tensor([0.4524])), ('bias', tensor([0.2588]))])\n",
            "OrderedDict([('weights', tensor([0.4613])), ('bias', tensor([0.2688]))])\n",
            "OrderedDict([('weights', tensor([0.4702])), ('bias', tensor([0.2788]))])\n",
            "OrderedDict([('weights', tensor([0.4791])), ('bias', tensor([0.2888]))])\n",
            "OrderedDict([('weights', tensor([0.4880])), ('bias', tensor([0.2988]))])\n",
            "OrderedDict([('weights', tensor([0.4969])), ('bias', tensor([0.3088]))])\n",
            "OrderedDict([('weights', tensor([0.5058])), ('bias', tensor([0.3188]))])\n",
            "OrderedDict([('weights', tensor([0.5147])), ('bias', tensor([0.3288]))])\n",
            "Epoch: 20 | Loss:0.1361164152622223 | Test loss:0.11819541454315186\n",
            "OrderedDict([('weights', tensor([0.5236])), ('bias', tensor([0.3388]))])\n",
            "OrderedDict([('weights', tensor([0.5325])), ('bias', tensor([0.3488]))])\n",
            "OrderedDict([('weights', tensor([0.5414])), ('bias', tensor([0.3588]))])\n",
            "OrderedDict([('weights', tensor([0.5503])), ('bias', tensor([0.3688]))])\n",
            "OrderedDict([('weights', tensor([0.5592])), ('bias', tensor([0.3788]))])\n",
            "OrderedDict([('weights', tensor([0.5681])), ('bias', tensor([0.3888]))])\n",
            "OrderedDict([('weights', tensor([0.5770])), ('bias', tensor([0.3988]))])\n",
            "OrderedDict([('weights', tensor([0.5843])), ('bias', tensor([0.4068]))])\n",
            "OrderedDict([('weights', tensor([0.5812])), ('bias', tensor([0.4028]))])\n",
            "OrderedDict([('weights', tensor([0.5834])), ('bias', tensor([0.4048]))])\n",
            "Epoch: 30 | Loss:0.005829507019370794 | Test loss:0.005870193243026733\n",
            "OrderedDict([('weights', tensor([0.5839])), ('bias', tensor([0.4048]))])\n",
            "OrderedDict([('weights', tensor([0.5826])), ('bias', tensor([0.4028]))])\n",
            "OrderedDict([('weights', tensor([0.5849])), ('bias', tensor([0.4048]))])\n",
            "OrderedDict([('weights', tensor([0.5836])), ('bias', tensor([0.4028]))])\n",
            "OrderedDict([('weights', tensor([0.5841])), ('bias', tensor([0.4028]))])\n",
            "OrderedDict([('weights', tensor([0.5846])), ('bias', tensor([0.4028]))])\n",
            "OrderedDict([('weights', tensor([0.5851])), ('bias', tensor([0.4028]))])\n",
            "OrderedDict([('weights', tensor([0.5856])), ('bias', tensor([0.4028]))])\n",
            "OrderedDict([('weights', tensor([0.5861])), ('bias', tensor([0.4028]))])\n",
            "OrderedDict([('weights', tensor([0.5848])), ('bias', tensor([0.4008]))])\n",
            "Epoch: 40 | Loss:0.005880028009414673 | Test loss:0.005875813774764538\n",
            "OrderedDict([('weights', tensor([0.5870])), ('bias', tensor([0.4028]))])\n",
            "OrderedDict([('weights', tensor([0.5857])), ('bias', tensor([0.4008]))])\n",
            "OrderedDict([('weights', tensor([0.5862])), ('bias', tensor([0.4008]))])\n",
            "OrderedDict([('weights', tensor([0.5867])), ('bias', tensor([0.4008]))])\n",
            "OrderedDict([('weights', tensor([0.5872])), ('bias', tensor([0.4008]))])\n",
            "OrderedDict([('weights', tensor([0.5877])), ('bias', tensor([0.4008]))])\n",
            "OrderedDict([('weights', tensor([0.5882])), ('bias', tensor([0.4008]))])\n",
            "OrderedDict([('weights', tensor([0.5869])), ('bias', tensor([0.3988]))])\n",
            "OrderedDict([('weights', tensor([0.5892])), ('bias', tensor([0.4008]))])\n",
            "OrderedDict([('weights', tensor([0.5879])), ('bias', tensor([0.3988]))])\n",
            "Epoch: 50 | Loss:0.005605465266853571 | Test loss:0.005580461118370295\n",
            "OrderedDict([('weights', tensor([0.5884])), ('bias', tensor([0.3988]))])\n",
            "OrderedDict([('weights', tensor([0.5889])), ('bias', tensor([0.3988]))])\n",
            "OrderedDict([('weights', tensor([0.5894])), ('bias', tensor([0.3988]))])\n",
            "OrderedDict([('weights', tensor([0.5899])), ('bias', tensor([0.3988]))])\n",
            "OrderedDict([('weights', tensor([0.5904])), ('bias', tensor([0.3988]))])\n",
            "OrderedDict([('weights', tensor([0.5891])), ('bias', tensor([0.3968]))])\n",
            "OrderedDict([('weights', tensor([0.5914])), ('bias', tensor([0.3988]))])\n",
            "OrderedDict([('weights', tensor([0.5901])), ('bias', tensor([0.3968]))])\n",
            "OrderedDict([('weights', tensor([0.5906])), ('bias', tensor([0.3968]))])\n",
            "OrderedDict([('weights', tensor([0.5911])), ('bias', tensor([0.3968]))])\n",
            "Epoch: 60 | Loss:0.005447459407150745 | Test loss:0.005422466900199652\n",
            "OrderedDict([('weights', tensor([0.5916])), ('bias', tensor([0.3968]))])\n",
            "OrderedDict([('weights', tensor([0.5921])), ('bias', tensor([0.3968]))])\n",
            "OrderedDict([('weights', tensor([0.5926])), ('bias', tensor([0.3968]))])\n",
            "OrderedDict([('weights', tensor([0.5913])), ('bias', tensor([0.3948]))])\n",
            "OrderedDict([('weights', tensor([0.5935])), ('bias', tensor([0.3968]))])\n",
            "OrderedDict([('weights', tensor([0.5922])), ('bias', tensor([0.3948]))])\n",
            "OrderedDict([('weights', tensor([0.5945])), ('bias', tensor([0.3968]))])\n",
            "OrderedDict([('weights', tensor([0.5932])), ('bias', tensor([0.3948]))])\n",
            "OrderedDict([('weights', tensor([0.5937])), ('bias', tensor([0.3948]))])\n",
            "OrderedDict([('weights', tensor([0.5942])), ('bias', tensor([0.3948]))])\n",
            "Epoch: 70 | Loss:0.005291449837386608 | Test loss:0.005269104149192572\n",
            "OrderedDict([('weights', tensor([0.5947])), ('bias', tensor([0.3948]))])\n",
            "OrderedDict([('weights', tensor([0.5934])), ('bias', tensor([0.3928]))])\n",
            "OrderedDict([('weights', tensor([0.5956])), ('bias', tensor([0.3948]))])\n",
            "OrderedDict([('weights', tensor([0.5943])), ('bias', tensor([0.3928]))])\n",
            "OrderedDict([('weights', tensor([0.5966])), ('bias', tensor([0.3948]))])\n",
            "OrderedDict([('weights', tensor([0.5953])), ('bias', tensor([0.3928]))])\n",
            "OrderedDict([('weights', tensor([0.5958])), ('bias', tensor([0.3928]))])\n",
            "OrderedDict([('weights', tensor([0.5963])), ('bias', tensor([0.3928]))])\n",
            "OrderedDict([('weights', tensor([0.5968])), ('bias', tensor([0.3928]))])\n",
            "OrderedDict([('weights', tensor([0.5973])), ('bias', tensor([0.3928]))])\n",
            "Epoch: 80 | Loss:0.005209737922996283 | Test loss:0.005344104953110218\n",
            "OrderedDict([('weights', tensor([0.5960])), ('bias', tensor([0.3908]))])\n",
            "OrderedDict([('weights', tensor([0.5983])), ('bias', tensor([0.3928]))])\n",
            "OrderedDict([('weights', tensor([0.5970])), ('bias', tensor([0.3908]))])\n",
            "OrderedDict([('weights', tensor([0.5975])), ('bias', tensor([0.3908]))])\n",
            "OrderedDict([('weights', tensor([0.5980])), ('bias', tensor([0.3908]))])\n",
            "OrderedDict([('weights', tensor([0.5985])), ('bias', tensor([0.3908]))])\n",
            "OrderedDict([('weights', tensor([0.5990])), ('bias', tensor([0.3908]))])\n",
            "OrderedDict([('weights', tensor([0.5995])), ('bias', tensor([0.3908]))])\n",
            "OrderedDict([('weights', tensor([0.5982])), ('bias', tensor([0.3888]))])\n",
            "OrderedDict([('weights', tensor([0.6004])), ('bias', tensor([0.3908]))])\n",
            "Epoch: 90 | Loss:0.005215364508330822 | Test loss:0.005044406745582819\n",
            "OrderedDict([('weights', tensor([0.5991])), ('bias', tensor([0.3888]))])\n",
            "OrderedDict([('weights', tensor([0.5996])), ('bias', tensor([0.3888]))])\n",
            "OrderedDict([('weights', tensor([0.6001])), ('bias', tensor([0.3888]))])\n",
            "OrderedDict([('weights', tensor([0.6006])), ('bias', tensor([0.3888]))])\n",
            "OrderedDict([('weights', tensor([0.6011])), ('bias', tensor([0.3888]))])\n",
            "OrderedDict([('weights', tensor([0.6016])), ('bias', tensor([0.3888]))])\n",
            "OrderedDict([('weights', tensor([0.6003])), ('bias', tensor([0.3868]))])\n",
            "OrderedDict([('weights', tensor([0.6026])), ('bias', tensor([0.3888]))])\n",
            "OrderedDict([('weights', tensor([0.6013])), ('bias', tensor([0.3868]))])\n",
            "OrderedDict([('weights', tensor([0.6035])), ('bias', tensor([0.3888]))])\n"
          ]
        }
      ]
    },
    {
      "cell_type": "code",
      "source": [
        "with torch.inference_mode():\n",
        "  y_preds_new=model_0(X_test)\n",
        "plot_predictions(predictions=y_preds_new)"
      ],
      "metadata": {
        "colab": {
          "base_uri": "https://localhost:8080/",
          "height": 830
        },
        "id": "yqjL25f5x6Ao",
        "outputId": "c99ffaaa-337d-4fdc-c14b-fc2db3a99d3b"
      },
      "execution_count": null,
      "outputs": [
        {
          "output_type": "display_data",
          "data": {
            "text/plain": [
              "<Figure size 700x1000 with 1 Axes>"
            ],
            "image/png": "[encoded data removed]"
          },
          "metadata": {}
        }
      ]
    },
    {
      "cell_type": "code",
      "source": [],
      "metadata": {
        "id": "PRNmDFiRl5Bm"
      },
      "execution_count": null,
      "outputs": []
    }
  ]
}