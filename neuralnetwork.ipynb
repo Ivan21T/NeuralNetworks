{
  "nbformat": 4,
  "nbformat_minor": 0,
  "metadata": {
    "colab": {
      "provenance": [],
      "authorship_tag": "ABX9TyOiSY0mvj1DFS/ZlwFGcF8i",
      "include_colab_link": true
    },
    "kernelspec": {
      "name": "python3",
      "display_name": "Python 3"
    },
    "language_info": {
      "name": "python"
    }
  },
  "cells": [
    {
      "cell_type": "markdown",
      "metadata": {
        "id": "view-in-github",
        "colab_type": "text"
      },
      "source": [
        "<a href=\"https://colab.research.google.com/github/Ivan21T/NeuralNetworks/blob/main/neuralnetwork.ipynb\" target=\"_parent\"><img src=\"https://colab.research.google.com/assets/colab-badge.svg\" alt=\"Open In Colab\"/></a>"
      ]
    },
    {
      "cell_type": "code",
      "execution_count": null,
      "metadata": {
        "id": "EIS6F17O5RVC"
      },
      "outputs": [],
      "source": [
        "import torch\n",
        "import torch.nn as nn\n",
        "import torch.nn.functional as F\n",
        "\n",
        "#Work with iris->flower dataset\n",
        "class Model(nn.Module):\n",
        "  def __init__(self,in_features=4,h1=8,h2=9,out_features=3):\n",
        "    super().__init__()\n",
        "    self.fc1=nn.Linear(in_features,h1)\n",
        "    self.fc2=nn.Linear(h1,h2)\n",
        "    self.out=nn.Linear(h2,out_features)\n",
        "  def forward(self,x):\n",
        "    x=F.relu(self.fc1(x))\n",
        "    x=F.relu(self.fc2(x))\n",
        "    x=self.out(x)\n",
        "    return x"
      ]
    },
    {
      "cell_type": "code",
      "source": [
        "#manual seed\n",
        "torch.manual_seed(41)\n",
        "\n",
        "model=Model()"
      ],
      "metadata": {
        "id": "NYdVstHz8txO"
      },
      "execution_count": null,
      "outputs": []
    },
    {
      "cell_type": "code",
      "source": [
        "import matplotlib.pyplot as plt\n",
        "import pandas\n",
        "%matplotlib inline\n",
        "url=\"https://gist.githubusercontent.com/curran/a08a1080b88344b0c8a7/raw/0e7a9b0a5d22642a06d3d5b9bcbad9890c8ee534/iris.csv\"\n",
        "my_df=pandas.read_csv(url)\n",
        "my_df[\"species\"]=my_df[\"species\"].replace(\"setosa\",0.0)\n",
        "my_df[\"species\"]=my_df[\"species\"].replace(\"virginica\",1.0)\n",
        "my_df[\"species\"]=my_df[\"species\"].replace(\"versicolor\",2.0)"
      ],
      "metadata": {
        "id": "PNk7SoteyRmZ",
        "colab": {
          "base_uri": "https://localhost:8080/"
        },
        "outputId": "10412966-d39a-4fea-c1ee-d797df3beffb"
      },
      "execution_count": null,
      "outputs": [
        {
          "output_type": "stream",
          "name": "stderr",
          "text": [
            "<ipython-input-3-cb5716f98477>:8: FutureWarning: Downcasting behavior in `replace` is deprecated and will be removed in a future version. To retain the old behavior, explicitly call `result.infer_objects(copy=False)`. To opt-in to the future behavior, set `pd.set_option('future.no_silent_downcasting', True)`\n",
            "  my_df[\"species\"]=my_df[\"species\"].replace(\"versicolor\",2.0)\n"
          ]
        }
      ]
    },
    {
      "cell_type": "code",
      "source": [
        "#input data taking\n",
        "X=my_df.drop(\"species\",axis=1)\n",
        "y=my_df[\"species\"]"
      ],
      "metadata": {
        "id": "8uWGu89o17wX"
      },
      "execution_count": null,
      "outputs": []
    },
    {
      "cell_type": "code",
      "source": [
        "#Convert this to numpy arrays\n",
        "X=X.values\n",
        "y=y.values\n",
        "from sklearn.model_selection import train_test_split\n",
        "#Train test split\n",
        "X_train,X_test,y_train,y_test=train_test_split(X,y,test_size=0.2,random_state=41)\n",
        "X_train=torch.FloatTensor(X_train)\n",
        "X_test=torch.FloatTensor(X_test)"
      ],
      "metadata": {
        "id": "ox6p8g6j2stw"
      },
      "execution_count": null,
      "outputs": []
    },
    {
      "cell_type": "code",
      "source": [
        "#train y label with long because output is in long\n",
        "y_train=torch.LongTensor(y_train)\n",
        "y_test=torch.LongTensor(y_test)"
      ],
      "metadata": {
        "id": "_5k2k6nPwJV9"
      },
      "execution_count": null,
      "outputs": []
    },
    {
      "cell_type": "code",
      "source": [
        "#Measure the error\n",
        "criterion=nn.CrossEntropyLoss()\n",
        "#optimiser\n",
        "optimizer=torch.optim.Adam(model.parameters(),lr=0.01)"
      ],
      "metadata": {
        "id": "uYjK_aOlzeZO"
      },
      "execution_count": null,
      "outputs": []
    },
    {
      "cell_type": "code",
      "source": [
        "#test model\n",
        "epochs = 100\n",
        "loss = []\n",
        "\n",
        "for i in range(epochs):\n",
        "    # Zero the gradients before the forward pass\n",
        "    optimizer.zero_grad()\n",
        "\n",
        "    # Predict data through model (forward pass)\n",
        "    y_pred = model(X_train)\n",
        "\n",
        "    # Calculate loss\n",
        "    loss_fn = criterion(y_pred, y_train)\n",
        "    loss.append(loss_fn.detach().numpy())  # Correctly append loss to the list\n",
        "\n",
        "    # Backward pass (compute gradients)\n",
        "    loss_fn.backward()\n",
        "\n",
        "    # Update weights\n",
        "    optimizer.step()\n",
        "\n",
        "    # Optionally print loss every few epochs\n",
        "    if (i + 1) % 10 == 0:\n",
        "        print(f'Epoch [{i + 1}/{epochs}], Loss: {loss_fn.item():.4f}')\n"
      ],
      "metadata": {
        "colab": {
          "base_uri": "https://localhost:8080/"
        },
        "id": "igpYuTWG2Me9",
        "outputId": "b489a0d4-d348-4b63-e7ce-a48325a50d11"
      },
      "execution_count": null,
      "outputs": [
        {
          "output_type": "stream",
          "name": "stdout",
          "text": [
            "Epoch [10/100], Loss: 1.0616\n",
            "Epoch [20/100], Loss: 0.9383\n",
            "Epoch [30/100], Loss: 0.6563\n",
            "Epoch [40/100], Loss: 0.4165\n",
            "Epoch [50/100], Loss: 0.2622\n",
            "Epoch [60/100], Loss: 0.1443\n",
            "Epoch [70/100], Loss: 0.0796\n",
            "Epoch [80/100], Loss: 0.0521\n",
            "Epoch [90/100], Loss: 0.0397\n",
            "Epoch [100/100], Loss: 0.0332\n"
          ]
        }
      ]
    },
    {
      "cell_type": "code",
      "source": [
        "plt.plot(range(epochs),loss)\n",
        "plt.xlabel(epochs)\n",
        "plt.ylabel(loss)"
      ],
      "metadata": {
        "colab": {
          "base_uri": "https://localhost:8080/",
          "height": 864
        },
        "id": "e6fy1A6f8piF",
        "outputId": "d5c834f7-ecd3-4110-ce49-1f3c02691f43"
      },
      "execution_count": null,
      "outputs": [
        {
          "output_type": "execute_result",
          "data": {
            "text/plain": [
              "Text(0, 0.5, '[array(1.1397022, dtype=float32), array(1.1253167, dtype=float32), array(1.1137296, dtype=float32), array(1.1042349, dtype=float32), array(1.095838, dtype=float32), array(1.0884808, dtype=float32), array(1.081664, dtype=float32), array(1.0750091, dtype=float32), array(1.068355, dtype=float32), array(1.0616359, dtype=float32), array(1.0544101, dtype=float32), array(1.0466532, dtype=float32), array(1.0379556, dtype=float32), array(1.0282665, dtype=float32), array(1.01734, dtype=float32), array(1.0048941, dtype=float32), array(0.99094844, dtype=float32), array(0.9752462, dtype=float32), array(0.9577521, dtype=float32), array(0.9382714, dtype=float32), array(0.9166716, dtype=float32), array(0.8931471, dtype=float32), array(0.86762893, dtype=float32), array(0.8403072, dtype=float32), array(0.81159645, dtype=float32), array(0.7816381, dtype=float32), array(0.7506357, dtype=float32), array(0.7190591, dtype=float32), array(0.68748087, dtype=float32), array(0.65628475, dtype=float32), array(0.6260552, dtype=float32), array(0.59708124, dtype=float32), array(0.5695747, dtype=float32), array(0.5435952, dtype=float32), array(0.51910555, dtype=float32), array(0.49609515, dtype=float32), array(0.47453362, dtype=float32), array(0.4542289, dtype=float32), array(0.4349435, dtype=float32), array(0.4164516, dtype=float32), array(0.39875507, dtype=float32), array(0.3816904, dtype=float32), array(0.36525172, dtype=float32), array(0.3493633, dtype=float32), array(0.33381686, dtype=float32), array(0.31867945, dtype=float32), array(0.30399996, dtype=float32), array(0.28969353, dtype=float32), array(0.27573603, dtype=float32), array(0.26221007, dtype=float32), array(0.24901508, dtype=float32), array(0.23601995, dtype=float32), array(0.22324154, dtype=float32), array(0.21077304, dtype=float32), array(0.1985553, dtype=float32), array(0.18664008, dtype=float32), array(0.17511722, dtype=float32), array(0.16394152, dtype=float32), array(0.15335694, dtype=float32), array(0.1442845, dtype=float32), array(0.13584764, dtype=float32), array(0.12740147, dtype=float32), array(0.11937407, dtype=float32), array(0.1122168, dtype=float32), array(0.10581587, dtype=float32), array(0.09993036, dtype=float32), array(0.09436123, dtype=float32), array(0.08905435, dtype=float32), array(0.08408565, dtype=float32), array(0.07957181, dtype=float32), array(0.07556893, dtype=float32), array(0.07203243, dtype=float32), array(0.06884319, dtype=float32), array(0.06589256, dtype=float32), array(0.06312305, dtype=float32), array(0.06052484, dtype=float32), array(0.05811797, dtype=float32), array(0.05591116, dtype=float32), array(0.05390047, dtype=float32), array(0.0520625, dtype=float32), array(0.05038198, dtype=float32), array(0.0488347, dtype=float32), array(0.04740329, dtype=float32), array(0.0460723, dtype=float32), array(0.04483054, dtype=float32), array(0.04367044, dtype=float32), array(0.04258431, dtype=float32), array(0.04156812, dtype=float32), array(0.04061639, dtype=float32), array(0.03972499, dtype=float32), array(0.03888977, dtype=float32), array(0.03810592, dtype=float32), array(0.03737007, dtype=float32), array(0.0366773, dtype=float32), array(0.03602409, dtype=float32), array(0.0354065, dtype=float32), array(0.03482088, dtype=float32), array(0.03426514, dtype=float32), array(0.03373628, dtype=float32), array(0.03323252, dtype=float32)]')"
            ]
          },
          "metadata": {},
          "execution_count": 9
        },
        {
          "output_type": "display_data",
          "data": {
            "text/plain": [
              "<Figure size 640x480 with 1 Axes>"
            ],
            "image/png": "[encoded data removed]"
          },
          "metadata": {}
        }
      ]
    },
    {
      "cell_type": "code",
      "source": [
        "with torch.no_grad():\n",
        "  y_eval=model.forward(X_test)\n",
        "  loss_eval=criterion(y_eval,y_test)\n",
        "loss_eval"
      ],
      "metadata": {
        "colab": {
          "base_uri": "https://localhost:8080/"
        },
        "id": "xzV6uQ1IAOVx",
        "outputId": "b1cdf41d-8c9b-4c82-b13f-739fe03b4753"
      },
      "execution_count": null,
      "outputs": [
        {
          "output_type": "execute_result",
          "data": {
            "text/plain": [
              "tensor(0.1286)"
            ]
          },
          "metadata": {},
          "execution_count": 10
        }
      ]
    },
    {
      "cell_type": "code",
      "source": [
        "correct=0\n",
        "all=0;\n",
        "with torch.no_grad():\n",
        "  for i,data in enumerate(X_test):\n",
        "    y_val=model.forward(data)\n",
        "    print(f'{i+1}). {str(y_val)} \\t {y_test[i]}')\n",
        "    if y_val.argmax().item()==y_test[i]:\n",
        "      correct+=1\n",
        "    all+=1\n",
        "print(f\"From {all}, {correct} correct\")"
      ],
      "metadata": {
        "colab": {
          "base_uri": "https://localhost:8080/"
        },
        "id": "v6gPQiG1BM8V",
        "outputId": "facb7884-02de-42a7-ec7e-ef12788b5b49"
      },
      "execution_count": null,
      "outputs": [
        {
          "output_type": "stream",
          "name": "stdout",
          "text": [
            "1). tensor([-6.9815,  5.7408,  2.8455]) \t 1\n",
            "2). tensor([-10.1079,   9.1258,   1.3065]) \t 1\n",
            "3). tensor([-10.9584,   9.6312,   2.1591]) \t 1\n",
            "4). tensor([-2.8685,  1.0380,  5.6331]) \t 2\n",
            "5). tensor([-8.7846,  7.4753,  2.6232]) \t 1\n",
            "6). tensor([-0.5798, -1.5149,  7.0015]) \t 2\n",
            "7). tensor([-6.4517,  4.9981,  3.6209]) \t 1\n",
            "8). tensor([-2.5549,  0.6965,  5.7920]) \t 2\n",
            "9). tensor([-7.5313,  6.1537,  3.1311]) \t 1\n",
            "10). tensor([-10.7096,   9.6681,   1.3449]) \t 1\n",
            "11). tensor([-5.9053,  4.4576,  3.7346]) \t 1\n",
            "12). tensor([ 13.1833, -14.0755,   5.5305]) \t 0\n",
            "13). tensor([ 12.0059, -12.7652,   4.9037]) \t 0\n",
            "14). tensor([ 1.2265, -3.0406,  6.3975]) \t 2\n",
            "15). tensor([ 11.4834, -12.5821,   5.9413]) \t 0\n",
            "16). tensor([-5.4799,  3.9468,  4.1003]) \t 1\n",
            "17). tensor([ 11.9423, -12.8441,   5.3712]) \t 0\n",
            "18). tensor([-6.5523,  5.2595,  3.1084]) \t 2\n",
            "19). tensor([ 12.6839, -13.5421,   5.3429]) \t 0\n",
            "20). tensor([ 10.5711, -11.5527,   5.4033]) \t 0\n",
            "21). tensor([ 0.4430, -2.3670,  6.6304]) \t 2\n",
            "22). tensor([-9.8637,  8.6577,  2.0489]) \t 1\n",
            "23). tensor([ 11.6450, -12.7026,   5.8262]) \t 0\n",
            "24). tensor([ 12.7953, -13.5874,   5.1347]) \t 0\n",
            "25). tensor([ 0.8533, -2.8426,  6.8867]) \t 2\n",
            "26). tensor([-0.8277, -1.2091,  6.7632]) \t 2\n",
            "27). tensor([-3.2131,  1.3456,  5.6632]) \t 2\n",
            "28). tensor([ 3.5930e-03, -1.9779e+00,  6.7345e+00]) \t 2\n",
            "29). tensor([ 13.1331, -14.0004,   5.4373]) \t 0\n",
            "30). tensor([-3.4921,  1.7504,  5.2126]) \t 2\n",
            "From 30, 28 correct\n"
          ]
        }
      ]
    },
    {
      "cell_type": "code",
      "source": [
        "#saving model\n",
        "torch.save(model.state_dict(),\"iris_model.pt\")"
      ],
      "metadata": {
        "id": "m_y-nPmRp6B-"
      },
      "execution_count": null,
      "outputs": []
    },
    {
      "cell_type": "code",
      "source": [
        "#loading model\n",
        "testing_saveFunction=Model()\n",
        "testing_saveFunction.load_state_dict(torch.load('iris_model.pt'))"
      ],
      "metadata": {
        "colab": {
          "base_uri": "https://localhost:8080/"
        },
        "id": "xhvnJcrqravi",
        "outputId": "65c42343-f8b4-4112-9bb7-ccf6b3cce2ca"
      },
      "execution_count": null,
      "outputs": [
        {
          "output_type": "stream",
          "name": "stderr",
          "text": [
            "<ipython-input-17-efc9c662d940>:3: FutureWarning: You are using `torch.load` with `weights_only=False` (the current default value), which uses the default pickle module implicitly. It is possible to construct malicious pickle data which will execute arbitrary code during unpickling (See https://github.com/pytorch/pytorch/blob/main/SECURITY.md#untrusted-models for more details). In a future release, the default value for `weights_only` will be flipped to `True`. This limits the functions that could be executed during unpickling. Arbitrary objects will no longer be allowed to be loaded via this mode unless they are explicitly allowlisted by the user via `torch.serialization.add_safe_globals`. We recommend you start setting `weights_only=True` for any use case where you don't have full control of the loaded file. Please open an issue on GitHub for any issues related to this experimental feature.\n",
            "  testing_saveFunction.load_state_dict(torch.load('iris_model.pt'))\n"
          ]
        },
        {
          "output_type": "execute_result",
          "data": {
            "text/plain": [
              "<All keys matched successfully>"
            ]
          },
          "metadata": {},
          "execution_count": 17
        }
      ]
    }
  ]
}